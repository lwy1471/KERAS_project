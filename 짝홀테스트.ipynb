{
 "cells": [
  {
   "cell_type": "code",
   "execution_count": 24,
   "metadata": {
    "collapsed": true
   },
   "outputs": [],
   "source": [
    "import tensorflow as tf\n",
    "import numpy as np\n",
    "\n",
    "#make Training/Test Data and Training/Test Labels\n",
    "input_x = []\n",
    "input_label = []\n",
    "for i in range(1000) :\n",
    "    input_x.append(float(i))\n",
    "    input_label.append(float(i%2))\n",
    "\n",
    "training_size = 700\n",
    "    \n",
    "training_x = input_x[:training_size]\n",
    "training_label = input_label[:training_size]\n",
    "\n",
    "test_x = input_x[training_size:]\n",
    "test_label = input_label[training_size:]\n",
    "\n",
    "\n",
    "#make the Tensor Graph\n",
    "x = tf.placeholder(tf.float32, shape=(None), name='x')\n",
    "y_ = tf.placeholder(tf.float32, shape=(None), name='y_')\n",
    "\n",
    "#W_init = tf.truncated_normal([],stddev=0.1)\n",
    "W_init = np.random.rand()*10\n",
    "W = tf.Variable(W_init, name='W')\n",
    "\n",
    "b_init = tf.truncated_normal([],stddev=0.1)\n",
    "b = tf.Variable(b_init, name='b')\n",
    "relu = tf.nn.relu(x*W+b, name='relu')\n",
    "y = tf.nn.softmax(relu)\n",
    "\n",
    "cross_entropy = -tf.reduce_sum(y_ * tf.log(y))\n",
    "optimizer = tf.train.GradientDescentOptimizer(0.01)\n",
    "train = optimizer.minimize(cross_entropy)\n",
    "\n",
    "predict = tf.equal(tf.argmax(y,0), tf.argmax(y_,0))\n",
    "accuracy = tf.reduce_mean(tf.cast(predict, tf.float32))"
   ]
  },
  {
   "cell_type": "code",
   "execution_count": 33,
   "metadata": {
    "collapsed": false
   },
   "outputs": [
    {
     "name": "stdout",
     "output_type": "stream",
     "text": [
      "True\n"
     ]
    }
   ],
   "source": [
    "sess = tf.InteractiveSession()\n",
    "sess.run(tf.global_variables_initializer())\n",
    "for i in range(training_size) :\n",
    "    sess.run(train, feed_dict={x:training_x, y_:training_label})\n",
    "\n",
    "print(sess.run(predict, feed_dict={x:[3], y_:[1]}))    \n",
    "\n",
    "#print(training_x)\n",
    "#print(sess.run(b))\n",
    "#print(training_label)\n",
    "#print(sess.run(x*W+b, feed_dict={x:training_x, y_:training_label}))\n",
    "#print(sess.run(relu, feed_dict={x:training_x, y_:training_label}))"
   ]
  }
 ],
 "metadata": {
  "kernelspec": {
   "display_name": "Python [conda env:keras]",
   "language": "python",
   "name": "conda-env-keras-py"
  },
  "language_info": {
   "codemirror_mode": {
    "name": "ipython",
    "version": 3
   },
   "file_extension": ".py",
   "mimetype": "text/x-python",
   "name": "python",
   "nbconvert_exporter": "python",
   "pygments_lexer": "ipython3",
   "version": "3.5.3"
  }
 },
 "nbformat": 4,
 "nbformat_minor": 1
}
