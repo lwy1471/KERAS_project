{
 "cells": [
  {
   "cell_type": "code",
   "execution_count": 1,
   "metadata": {
    "collapsed": false
   },
   "outputs": [],
   "source": [
    "import tensorflow as tf\n",
    "import numpy as np\n",
    "\n",
    "#make Training/Test Data and Training/Test Labels\n",
    "input_x = []\n",
    "input_label = []\n",
    "for i in range(1000) :\n",
    "    input_x.append(float(i))\n",
    "    input_label.append(float(i%2))\n",
    "\n",
    "training_size = 700\n",
    "    \n",
    "training_x = input_x[:training_size]\n",
    "training_label = input_label[:training_size]\n",
    "\n",
    "test_x = input_x[training_size:]\n",
    "test_label = input_label[training_size:]\n",
    "\n",
    "\n",
    "#make the Tensor Graph\n",
    "x = tf.placeholder(tf.float32, shape=(None), name='x')\n",
    "y_ = tf.placeholder(tf.float32, shape=(None), name='y_')\n",
    "\n",
    "W_init = tf.truncated_normal([],stddev=0.1)\n",
    "W = tf.Variable(W_init, name='W')\n",
    "\n",
    "b_init = tf.truncated_normal([],stddev=0.1)\n",
    "b = tf.Variable(b_init, name='b')\n",
    "\n",
    "y = tf.nn.softmax(x*W+b)\n",
    "\n",
    "cross_entropy = -tf.reduce_sum(y_ * tf.log(y))\n",
    "optimizer = tf.train.GradientDescentOptimizer(0.01)\n",
    "train = optimizer.minimize(cross_entropy)\n",
    "\n",
    "predict = tf.equal(tf.argmax(y,0), tf.argmax(y_,0))\n",
    "accuracy = tf.reduce_mean(tf.cast(predict, tf.float32))"
   ]
  },
  {
   "cell_type": "code",
   "execution_count": 2,
   "metadata": {
    "collapsed": false
   },
   "outputs": [
    {
     "name": "stdout",
     "output_type": "stream",
     "text": [
      "step :  0 Cross Entropy :  nan Accuracy :  0.0\n",
      "step :  100 Cross Entropy :  nan Accuracy :  0.0\n",
      "step :  200 Cross Entropy :  nan Accuracy :  0.0\n",
      "step :  300 Cross Entropy :  nan Accuracy :  0.0\n",
      "step :  400 Cross Entropy :  nan Accuracy :  0.0\n",
      "step :  500 Cross Entropy :  nan Accuracy :  0.0\n",
      "step :  600 Cross Entropy :  nan Accuracy :  0.0\n",
      "정답률 :  0.0\n"
     ]
    }
   ],
   "source": [
    "# Run Session\n",
    "sess = tf.InteractiveSession()\n",
    "sess.run(tf.global_variables_initializer())\n",
    "\n",
    "feed = {x:training_x, y_:training_label}\n",
    "sess.run(train, feed_dict=feed)\n",
    "\n",
    "\n",
    "for i in range(700) :\n",
    "    feed = {x:training_x, y_:training_label}\n",
    "    sess.run(train, feed_dict=feed)\n",
    "    \n",
    "    if i%100 == 0 :\n",
    "        cre = sess.run(cross_entropy, feed_dict={x:training_x, y_:training_label})\n",
    "        acc = sess.run(accuracy, feed_dict={x:test_x, y_:test_label})\n",
    "        print(\"step : \",i,\"Cross Entropy : \",cre,\", Accuracy : \",acc)\n",
    "    \n",
    "acc = sess.run(accuracy, feed_dict={x:test_x, y_:test_label})\n",
    "print(\"정답률 : \",acc)\n"
   ]
  }
 ],
 "metadata": {
  "anaconda-cloud": {},
  "kernelspec": {
   "display_name": "Python [conda env:keras]",
   "language": "python",
   "name": "conda-env-keras-py"
  },
  "language_info": {
   "codemirror_mode": {
    "name": "ipython",
    "version": 3
   },
   "file_extension": ".py",
   "mimetype": "text/x-python",
   "name": "python",
   "nbconvert_exporter": "python",
   "pygments_lexer": "ipython3",
   "version": "3.5.3"
  }
 },
 "nbformat": 4,
 "nbformat_minor": 1
}
