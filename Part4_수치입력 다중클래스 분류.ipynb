{
 "cells": [
  {
   "cell_type": "code",
   "execution_count": null,
   "metadata": {
    "collapsed": false
   },
   "outputs": [],
   "source": [
    "import numpy as np\n",
    "\n",
    "x_train = np.random.random((1000,12))\n",
    "y_train = np.random.randint(2, size=(1000,1))\n",
    "x_test = np.random.random((100,12))\n",
    "y_test = np.random.randint(2, size=(100,1))\n",
    "\n",
    "\n",
    "%matplotlib inline\n",
    "import matplotlib.pyplot as plt\n",
    "\n",
    "plot_x = x_train[:,0]\n",
    "plot_y = x_train[:,1]\n",
    "plot_color = y_train.reshape(1000,)\n",
    "\n",
    "plt.scatter(plot_x, plot_y, c=plot_color)\n",
    "plt.show()"
   ]
  },
  {
   "cell_type": "code",
   "execution_count": null,
   "metadata": {
    "collapsed": false
   },
   "outputs": [],
   "source": [
    "from mpl_toolkits.mplot3d import Axes3D\n",
    "\n",
    "fig = plt.figure()\n",
    "ax = fig.add_subplot(111,projection='3d')\n",
    "\n",
    "plot_x = x_train[:,0]\n",
    "plot_y = x_train[:,1]\n",
    "plot_z = x_train[:,2]\n",
    "plot_color = y_train.reshape(1000,)\n",
    "\n",
    "ax.scatter(plot_x, plot_y, plot_z,c=plot_color)\n",
    "plt.show()"
   ]
  },
  {
   "cell_type": "code",
   "execution_count": 11,
   "metadata": {
    "collapsed": false
   },
   "outputs": [
    {
     "data": {
      "image/png": "[encoded data removed]",
      "text/plain": [
       "<matplotlib.figure.Figure at 0x150a3a20>"
      ]
     },
     "metadata": {},
     "output_type": "display_data"
    },
    {
     "name": "stdout",
     "output_type": "stream",
     "text": [
      "100/100 [==============================] - 0s 1ms/step\n",
      "loss_and_metrics : [0.7056726741790772, 0.53000000000000003]\n"
     ]
    }
   ],
   "source": [
    "#퍼셉트론 신경망 모델\n",
    "import numpy as np\n",
    "from keras.models import Sequential\n",
    "from keras.layers import Dense\n",
    "import random\n",
    "import sys\n",
    "\n",
    "RESULT_NAME = \"Part4 퍼셉트론 신경망\"\n",
    "\n",
    "x_train = np.random.random((1000,12))\n",
    "y_train = np.random.randint(2, size=(1000,1))\n",
    "x_test = np.random.random((100,12))\n",
    "y_test = np.random.randint(2, size=(100,1))\n",
    "\n",
    "model = Sequential()\n",
    "model.add(Dense(1, input_dim=12,activation='sigmoid'))\n",
    "\n",
    "model.compile(optimizer='rmsprop', loss='binary_crossentropy', metrics=['accuracy'])\n",
    "\n",
    "oldStdOut = sys.stdout\n",
    "filePath = \"./log/\"\n",
    "filePath += RESULT_NAME+\".txt\"\n",
    "sys.stdout = open(filePath,'w')\n",
    "hist = model.fit(x_train, y_train, epochs=500, batch_size=64)\n",
    "sys.stdout = oldStdOut\n",
    "\n",
    "%matplotlib inline\n",
    "import matplotlib.pyplot as plt\n",
    "\n",
    "\n",
    "fig, loss_ax = plt.subplots()\n",
    "acc_ax = loss_ax.twinx()\n",
    "\n",
    "loss_ax.set_ylim([0.0, 1.0])\n",
    "acc_ax.set_ylim([0.0, 1.0])\n",
    "\n",
    "loss_ax.plot(hist.history['loss'], 'y', label='train loss')\n",
    "acc_ax.plot(hist.history['acc'], 'b', label='train acc')\n",
    "\n",
    "loss_ax.set_xlabel('epoch')\n",
    "loss_ax.set_ylabel('loss')\n",
    "acc_ax.set_ylabel('accuracy')\n",
    "\n",
    "loss_ax.legend(loc='upper left')\n",
    "acc_ax.legend(loc='lower left')\n",
    "\n",
    "filePath = \"./결과/\"\n",
    "filePath += RESULT_NAME+\".png\"\n",
    "plt.savefig(filePath, bbox_inches='tight', dpi=100)\n",
    "plt.show()\n",
    "\n",
    "\n",
    "\n",
    "loss_and_metrics = model.evaluate(x_test, y_test, batch_size=32)\n",
    "print('loss_and_metrics : ' + str(loss_and_metrics))"
   ]
  },
  {
   "cell_type": "code",
   "execution_count": 12,
   "metadata": {
    "collapsed": false
   },
   "outputs": [
    {
     "data": {
      "image/png": "[encoded data removed]",
      "text/plain": [
       "<matplotlib.figure.Figure at 0x11fcab38>"
      ]
     },
     "metadata": {},
     "output_type": "display_data"
    },
    {
     "name": "stdout",
     "output_type": "stream",
     "text": [
      "100/100 [==============================] - 0s 1ms/step\n",
      "loss and metrics : [3.2348095417022704, 0.089999999999999997]\n"
     ]
    }
   ],
   "source": [
    "#다층퍼셉트론 신경망 모델\n",
    "\n",
    "import numpy as np\n",
    "from keras.models import Sequential\n",
    "from keras.layers import Dense\n",
    "from keras.utils import to_categorical\n",
    "import random\n",
    "\n",
    "RESULT_NAME = \"Part4 다층 퍼셉트론 신경망\"\n",
    "\n",
    "x_train = np.random.random((1000,12))\n",
    "y_train = np.random.randint(10, size=(1000,1))\n",
    "y_train = to_categorical(y_train, num_classes=10)\n",
    "\n",
    "x_test = np.random.random((100,12))\n",
    "y_test = np.random.randint(10, size=(100,1))\n",
    "y_test = to_categorical(y_test, num_classes=10)\n",
    "\n",
    "model = Sequential()\n",
    "model.add(Dense(64, input_dim=12, activation='relu'))\n",
    "model.add(Dense(10, activation='softmax'))\n",
    "\n",
    "model.compile(optimizer='rmsprop', loss='categorical_crossentropy', metrics=['accuracy'])\n",
    "\n",
    "#Save log to file.\n",
    "import sys\n",
    "oldStdout = sys.stdout\n",
    "filePath = \"./log/\"\n",
    "filePath += RESULT_NAME+\".txt\"\n",
    "file = open(filePath,'w')\n",
    "sys.stdout = file\n",
    "hist = model.fit(x_train, y_train, epochs=1000, batch_size=64)\n",
    "sys.stdout = oldStdout\n",
    "\n",
    "%matplotlib inline\n",
    "import matplotlib.pyplot as plt\n",
    "\n",
    "fig, loss_ax = plt.subplots()\n",
    "\n",
    "acc_ax = loss_ax.twinx()\n",
    "\n",
    "loss_ax.set_ylim([0.0,3.0])\n",
    "acc_ax.set_ylim([0.0,1.0])\n",
    "\n",
    "loss_ax.plot(hist.history['loss'], 'y', label='train loss')\n",
    "acc_ax.plot(hist.history['acc'], 'b', label='train acc')\n",
    "\n",
    "loss_ax.set_xlabel('epoch')\n",
    "loss_ax.set_ylabel('loss')\n",
    "acc_ax.set_ylabel('accuracy')\n",
    "\n",
    "loss_ax.legend(loc='upper left')\n",
    "acc_ax.legend(loc='lower left')\n",
    "\n",
    "filePath = \"./결과/\"\n",
    "filePath += RESULT_NAME+\".png\"\n",
    "plt.savefig(filePath, dpi=100)\n",
    "plt.show()\n",
    "\n",
    "loss_and_metrics = model.evaluate(x_test, y_test, batch_size=32)\n",
    "print('loss and metrics : ' + str(loss_and_metrics))"
   ]
  },
  {
   "cell_type": "code",
   "execution_count": 13,
   "metadata": {
    "collapsed": false
   },
   "outputs": [
    {
     "data": {
      "image/png": "[encoded data removed]",
      "text/plain": [
       "<matplotlib.figure.Figure at 0x15cf8da0>"
      ]
     },
     "metadata": {},
     "output_type": "display_data"
    },
    {
     "name": "stdout",
     "output_type": "stream",
     "text": [
      "100/100 [==============================] - 0s 1ms/step\n",
      "loss and metrics : [7.6235892295837404, 0.11]\n"
     ]
    }
   ],
   "source": [
    "#깊은 다층퍼셉트론 신경망 모델\n",
    "import numpy as np\n",
    "from keras.models import Sequential\n",
    "from keras.layers import Dense\n",
    "from keras.utils import to_categorical\n",
    "import random\n",
    "\n",
    "RESULT_NAME = \"Part4 깊은 다층 퍼셉트론 신경망\"\n",
    "\n",
    "x_train = np.random.random((1000,12))\n",
    "y_train = np.random.randint(10, size=(1000,1))\n",
    "y_train = to_categorical(y_train, num_classes=10)\n",
    "x_test = np.random.random((100,12))\n",
    "y_test = np.random.randint(10, size=(100,1))\n",
    "y_test = to_categorical(y_test, num_classes=10)\n",
    "\n",
    "model = Sequential()\n",
    "model.add(Dense(64, input_dim=12, activation='relu'))\n",
    "model.add(Dense(64, activation='relu'))\n",
    "model.add(Dense(10, activation='softmax'))\n",
    "\n",
    "model.compile(optimizer='rmsprop', loss='categorical_crossentropy', metrics=['accuracy'])\n",
    "\n",
    "import sys\n",
    "oldStdout = sys.stdout\n",
    "filePath = \"./log/\"\n",
    "filePath += RESULT_NAME+\".log\"\n",
    "sys.stdout = open(filePath,'w')\n",
    "hist = model.fit(x_train, y_train, epochs=1000, batch_size=64)\n",
    "sys.stdout = oldStdout\n",
    "\n",
    "%matplotlib inline\n",
    "import matplotlib.pyplot as plt\n",
    "\n",
    "fig, loss_ax = plt.subplots()\n",
    "\n",
    "acc_ax = loss_ax.twinx()\n",
    "\n",
    "loss_ax.set_ylim([0.0,3.0])\n",
    "acc_ax.set_ylim([0.0,1.0])\n",
    "\n",
    "loss_ax.plot(hist.history['loss'], 'y', label='train loss')\n",
    "acc_ax.plot(hist.history['acc'], 'b', label='train acc')\n",
    "\n",
    "loss_ax.set_xlabel('epoch')\n",
    "loss_ax.set_ylabel('loss')\n",
    "acc_ax.set_ylabel('accuracy')\n",
    "\n",
    "loss_ax.legend(loc='upper left')\n",
    "acc_ax.legend(loc='lower left')\n",
    "\n",
    "filePath = \"./결과/\"\n",
    "filePath += RESULT_NAME+\".png\"\n",
    "plt.savefig(filePath,dpi=100)\n",
    "plt.show()\n",
    "\n",
    "loss_and_metrics = model.evaluate(x_test, y_test, batch_size=32)\n",
    "print('loss and metrics : ' + str(loss_and_metrics))"
   ]
  },
  {
   "cell_type": "code",
   "execution_count": null,
   "metadata": {
    "collapsed": false
   },
   "outputs": [],
   "source": []
  }
 ],
 "metadata": {
  "anaconda-cloud": {},
  "kernelspec": {
   "display_name": "Python [conda env:keras]",
   "language": "python",
   "name": "conda-env-keras-py"
  },
  "language_info": {
   "codemirror_mode": {
    "name": "ipython",
    "version": 3
   },
   "file_extension": ".py",
   "mimetype": "text/x-python",
   "name": "python",
   "nbconvert_exporter": "python",
   "pygments_lexer": "ipython3",
   "version": "3.5.3"
  }
 },
 "nbformat": 4,
 "nbformat_minor": 1
}
